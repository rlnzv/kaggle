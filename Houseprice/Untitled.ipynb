{
 "cells": [
  {
   "cell_type": "code",
   "execution_count": 1,
   "id": "99c2dbc6-5c88-4af4-a760-a4a0e89e9b6a",
   "metadata": {},
   "outputs": [
    {
     "name": "stderr",
     "output_type": "stream",
     "text": [
      "/Users/asdf/miniforge3/lib/python3.9/site-packages/xgboost/compat.py:36: FutureWarning: pandas.Int64Index is deprecated and will be removed from pandas in a future version. Use pandas.Index with the appropriate dtype instead.\n",
      "  from pandas import MultiIndex, Int64Index\n"
     ]
    }
   ],
   "source": [
    "import numpy as np\n",
    "import pandas as pd\n",
    "from sklearn.model_selection import train_test_split\n",
    "import xgboost as xgb"
   ]
  },
  {
   "cell_type": "code",
   "execution_count": 2,
   "id": "6e52f429-a44b-4a11-8061-44732baf7fd5",
   "metadata": {},
   "outputs": [
    {
     "name": "stderr",
     "output_type": "stream",
     "text": [
      "/var/folders/3c/7f_7lz2x20n0gd8mfd73s0m80000gn/T/ipykernel_5685/1177507823.py:8: FutureWarning: The frame.append method is deprecated and will be removed from pandas in a future version. Use pandas.concat instead.\n",
      "  df_all = df_train.append(df_test)\n"
     ]
    }
   ],
   "source": [
    "\n",
    "df_train = pd.read_csv(\"train.csv\")\n",
    "df_test = pd.read_csv(\"test.csv\")\n",
    "\n",
    "\n",
    "df_train[\"TrainFlag\"] = True\n",
    "df_test[\"TrainFlag\"] = False\n",
    "\n",
    "df_all = df_train.append(df_test)\n",
    "df_all.index = df_all[\"Id\"]\n",
    "df_all.drop(\"Id\", axis = 1, inplace = True)"
   ]
  },
  {
   "cell_type": "code",
   "execution_count": 3,
   "id": "cd90d1ff-f5da-43b1-87a7-78f2afc54aee",
   "metadata": {},
   "outputs": [],
   "source": [
    "df_all = pd.get_dummies(df_all, drop_first=True)"
   ]
  },
  {
   "cell_type": "code",
   "execution_count": 4,
   "id": "93ee4748-653d-4c3a-bd34-11aa24c71418",
   "metadata": {},
   "outputs": [],
   "source": [
    "df_train = df_all[df_all[\"TrainFlag\"] == True]\n",
    "df_train = df_train.drop([\"TrainFlag\"], axis = 1)\n",
    "\n",
    "df_test = df_all[df_all[\"TrainFlag\"] == False]\n",
    "df_test = df_test.drop([\"TrainFlag\"], axis = 1)\n",
    "df_test = df_test.drop([\"SalePrice\"], axis = 1)"
   ]
  },
  {
   "cell_type": "code",
   "execution_count": 5,
   "id": "4331ac67-a23a-44a4-9610-b8b8990da555",
   "metadata": {},
   "outputs": [],
   "source": [
    "y = df_train[\"SalePrice\"].values\n",
    "X = df_train.drop(\"SalePrice\", axis=1).values\n",
    "X_train, X_test, y_train, y_test = train_test_split(X, y, test_size=0.3, random_state=0)"
   ]
  },
  {
   "cell_type": "code",
   "execution_count": 6,
   "id": "660b9bfd-7231-4df2-b691-298361f88138",
   "metadata": {},
   "outputs": [],
   "source": [
    "dtrain = xgb.DMatrix(X_train, label=y_train)\n",
    "dvalid = xgb.DMatrix(X_test, label=y_test)\n",
    "dtest = xgb.DMatrix(df_test.values)"
   ]
  },
  {
   "cell_type": "code",
   "execution_count": 7,
   "id": "7a4a88f8-6abe-4876-ac29-6326cffa13d1",
   "metadata": {},
   "outputs": [],
   "source": [
    "params = {\n",
    "        'objective': 'reg:squarederror','silent':1, 'random_state':1234, \n",
    "        \n",
    "        'eval_metric': 'rmse',\n",
    "    }\n",
    "num_round = 500\n",
    "watchlist = [(dtrain, 'train'), (dvalid, 'eval')]"
   ]
  },
  {
   "cell_type": "code",
   "execution_count": 8,
   "id": "502c0ec7-3543-4ca4-bb72-faf085860abc",
   "metadata": {},
   "outputs": [
    {
     "name": "stdout",
     "output_type": "stream",
     "text": [
      "[06:41:12] WARNING: /Users/runner/miniforge3/conda-bld/xgboost-split_1645117899018/work/src/learner.cc:576: \n",
      "Parameters: { \"silent\" } might not be used.\n",
      "\n",
      "  This could be a false alarm, with some parameters getting used by language bindings but\n",
      "  then being mistakenly passed down to XGBoost core, or some parameter actually being used\n",
      "  but getting flagged wrongly here. Please open an issue if you find any such cases.\n",
      "\n",
      "\n",
      "[0]\ttrain-rmse:140968.18750\teval-rmse:144201.06250\n",
      "[1]\ttrain-rmse:101726.89844\teval-rmse:106517.66406\n",
      "[2]\ttrain-rmse:73972.57812\teval-rmse:81385.10938\n",
      "[3]\ttrain-rmse:54587.18750\teval-rmse:63210.94531\n",
      "[4]\ttrain-rmse:40907.39453\teval-rmse:52497.31250\n",
      "[5]\ttrain-rmse:31129.76953\teval-rmse:45693.10547\n",
      "[6]\ttrain-rmse:24273.25391\teval-rmse:41899.23438\n",
      "[7]\ttrain-rmse:19573.60352\teval-rmse:39666.12500\n",
      "[8]\ttrain-rmse:16331.17773\teval-rmse:38170.98828\n",
      "[9]\ttrain-rmse:13992.89551\teval-rmse:37315.90234\n",
      "[10]\ttrain-rmse:12424.89453\teval-rmse:36737.40625\n",
      "[11]\ttrain-rmse:11342.17871\teval-rmse:36053.96094\n",
      "[12]\ttrain-rmse:10541.55176\teval-rmse:35531.43750\n",
      "[13]\ttrain-rmse:9928.75977\teval-rmse:35073.29688\n",
      "[14]\ttrain-rmse:9445.12402\teval-rmse:34745.10156\n",
      "[15]\ttrain-rmse:9009.01465\teval-rmse:34430.77344\n",
      "[16]\ttrain-rmse:8622.26856\teval-rmse:34199.76953\n",
      "[17]\ttrain-rmse:8387.76660\teval-rmse:33999.90625\n",
      "[18]\ttrain-rmse:8130.70361\teval-rmse:33876.33594\n",
      "[19]\ttrain-rmse:7980.83105\teval-rmse:33798.05078\n",
      "[20]\ttrain-rmse:7695.28906\teval-rmse:33636.18750\n",
      "[21]\ttrain-rmse:7551.66260\teval-rmse:33618.19922\n",
      "[22]\ttrain-rmse:7334.72705\teval-rmse:33602.81250\n",
      "[23]\ttrain-rmse:7069.44727\teval-rmse:33476.00391\n",
      "[24]\ttrain-rmse:6847.09277\teval-rmse:33475.45312\n",
      "[25]\ttrain-rmse:6678.92188\teval-rmse:33388.33594\n",
      "[26]\ttrain-rmse:6472.75391\teval-rmse:33389.50781\n",
      "[27]\ttrain-rmse:6329.44775\teval-rmse:33423.60547\n",
      "[28]\ttrain-rmse:6213.31689\teval-rmse:33407.92969\n",
      "[29]\ttrain-rmse:6097.15527\teval-rmse:33399.61328\n",
      "[30]\ttrain-rmse:6014.07666\teval-rmse:33380.51562\n",
      "[31]\ttrain-rmse:5956.89795\teval-rmse:33379.74219\n",
      "[32]\ttrain-rmse:5726.27002\teval-rmse:33381.03516\n",
      "[33]\ttrain-rmse:5560.02734\teval-rmse:33395.56250\n",
      "[34]\ttrain-rmse:5312.81152\teval-rmse:33397.79297\n",
      "[35]\ttrain-rmse:5185.30322\teval-rmse:33363.83203\n",
      "[36]\ttrain-rmse:4962.77930\teval-rmse:33363.16016\n",
      "[37]\ttrain-rmse:4717.93408\teval-rmse:33361.78125\n",
      "[38]\ttrain-rmse:4650.63379\teval-rmse:33359.60156\n",
      "[39]\ttrain-rmse:4601.93897\teval-rmse:33372.67578\n",
      "[40]\ttrain-rmse:4424.39697\teval-rmse:33372.10156\n",
      "[41]\ttrain-rmse:4351.39697\teval-rmse:33376.30859\n",
      "[42]\ttrain-rmse:4298.17139\teval-rmse:33365.60547\n",
      "[43]\ttrain-rmse:4212.68799\teval-rmse:33358.97656\n",
      "[44]\ttrain-rmse:4014.44043\teval-rmse:33361.23828\n",
      "[45]\ttrain-rmse:3876.85571\teval-rmse:33359.54688\n",
      "[46]\ttrain-rmse:3776.79394\teval-rmse:33348.12891\n",
      "[47]\ttrain-rmse:3703.72876\teval-rmse:33333.24219\n",
      "[48]\ttrain-rmse:3584.47754\teval-rmse:33361.55469\n",
      "[49]\ttrain-rmse:3520.58252\teval-rmse:33346.71875\n",
      "[50]\ttrain-rmse:3390.46460\teval-rmse:33330.08594\n",
      "[51]\ttrain-rmse:3328.64356\teval-rmse:33325.92188\n",
      "[52]\ttrain-rmse:3234.01489\teval-rmse:33337.61328\n",
      "[53]\ttrain-rmse:3184.23828\teval-rmse:33320.74219\n",
      "[54]\ttrain-rmse:3086.02930\teval-rmse:33315.20312\n",
      "[55]\ttrain-rmse:3070.42383\teval-rmse:33319.14062\n",
      "[56]\ttrain-rmse:3023.16309\teval-rmse:33309.78516\n",
      "[57]\ttrain-rmse:2956.63330\teval-rmse:33319.42969\n",
      "[58]\ttrain-rmse:2913.65967\teval-rmse:33311.62891\n",
      "[59]\ttrain-rmse:2891.71143\teval-rmse:33297.45312\n",
      "[60]\ttrain-rmse:2821.50366\teval-rmse:33303.97656\n",
      "[61]\ttrain-rmse:2740.05005\teval-rmse:33301.53125\n",
      "[62]\ttrain-rmse:2610.59351\teval-rmse:33305.03125\n",
      "[63]\ttrain-rmse:2543.11060\teval-rmse:33335.82812\n",
      "[64]\ttrain-rmse:2476.98731\teval-rmse:33317.72656\n",
      "[65]\ttrain-rmse:2368.95019\teval-rmse:33301.48828\n",
      "[66]\ttrain-rmse:2283.53418\teval-rmse:33300.94141\n",
      "[67]\ttrain-rmse:2194.82007\teval-rmse:33297.57422\n",
      "[68]\ttrain-rmse:2069.16919\teval-rmse:33309.61719\n",
      "[69]\ttrain-rmse:2029.29004\teval-rmse:33305.08594\n",
      "[70]\ttrain-rmse:1971.02673\teval-rmse:33303.01953\n",
      "[71]\ttrain-rmse:1937.85327\teval-rmse:33301.54688\n",
      "[72]\ttrain-rmse:1919.08032\teval-rmse:33295.74219\n",
      "[73]\ttrain-rmse:1776.59412\teval-rmse:33303.61328\n",
      "[74]\ttrain-rmse:1748.18311\teval-rmse:33303.60547\n",
      "[75]\ttrain-rmse:1711.64001\teval-rmse:33292.98047\n",
      "[76]\ttrain-rmse:1700.12305\teval-rmse:33292.49219\n",
      "[77]\ttrain-rmse:1668.90125\teval-rmse:33301.86328\n",
      "[78]\ttrain-rmse:1617.79626\teval-rmse:33314.19531\n",
      "[79]\ttrain-rmse:1592.39062\teval-rmse:33317.17188\n",
      "[80]\ttrain-rmse:1535.71204\teval-rmse:33316.32812\n",
      "[81]\ttrain-rmse:1505.27039\teval-rmse:33322.75000\n",
      "[82]\ttrain-rmse:1496.47217\teval-rmse:33321.68359\n",
      "[83]\ttrain-rmse:1448.76782\teval-rmse:33322.17969\n",
      "[84]\ttrain-rmse:1426.08960\teval-rmse:33312.55078\n",
      "[85]\ttrain-rmse:1412.90820\teval-rmse:33313.82422\n",
      "[86]\ttrain-rmse:1406.30957\teval-rmse:33309.23828\n",
      "[87]\ttrain-rmse:1394.18274\teval-rmse:33312.63672\n",
      "[88]\ttrain-rmse:1368.73242\teval-rmse:33317.97656\n",
      "[89]\ttrain-rmse:1332.35999\teval-rmse:33322.23047\n",
      "[90]\ttrain-rmse:1294.94214\teval-rmse:33327.03906\n",
      "[91]\ttrain-rmse:1275.91553\teval-rmse:33320.41797\n",
      "[92]\ttrain-rmse:1267.22546\teval-rmse:33317.82031\n",
      "[93]\ttrain-rmse:1207.18225\teval-rmse:33307.45312\n",
      "[94]\ttrain-rmse:1169.78967\teval-rmse:33312.76562\n",
      "[95]\ttrain-rmse:1152.65112\teval-rmse:33311.60938\n"
     ]
    }
   ],
   "source": [
    "model = xgb.train(params,\n",
    "                    dtrain,\n",
    "                    num_round,\n",
    "                    early_stopping_rounds=20,\n",
    "                    evals=watchlist,\n",
    "                    )"
   ]
  },
  {
   "cell_type": "code",
   "execution_count": 9,
   "id": "5b1e96e1-55e9-4e93-84bb-b00e24e0e25e",
   "metadata": {},
   "outputs": [
    {
     "name": "stderr",
     "output_type": "stream",
     "text": [
      "/Users/asdf/miniforge3/lib/python3.9/site-packages/xgboost/core.py:105: UserWarning: ntree_limit is deprecated, use `iteration_range` or model slicing instead.\n",
      "  warnings.warn(\n"
     ]
    }
   ],
   "source": [
    "\n",
    "prediction_XG = model.predict(dtest, ntree_limit = model.best_ntree_limit)\n",
    "\n",
    "prediction_XG = np.round(prediction_XG)"
   ]
  },
  {
   "cell_type": "code",
   "execution_count": 10,
   "id": "6dd7dc4e-40a8-448d-9129-842c2a725af2",
   "metadata": {},
   "outputs": [
    {
     "data": {
      "text/plain": [
       "array([128539., 166515., 183189., ..., 170081., 116369., 236587.],\n",
       "      dtype=float32)"
      ]
     },
     "execution_count": 10,
     "metadata": {},
     "output_type": "execute_result"
    }
   ],
   "source": [
    "prediction_XG"
   ]
  },
  {
   "cell_type": "code",
   "execution_count": 11,
   "id": "47994403-9699-42b1-8894-c3bd9f9beca1",
   "metadata": {},
   "outputs": [],
   "source": [
    "submission = pd.DataFrame({\"id\": df_test.index, \"SalePrice\": prediction_XG})"
   ]
  },
  {
   "cell_type": "code",
   "execution_count": 12,
   "id": "b64f94f5-b210-44e1-9a8f-8cfde26db9a1",
   "metadata": {},
   "outputs": [
    {
     "data": {
      "text/html": [
       "<div>\n",
       "<style scoped>\n",
       "    .dataframe tbody tr th:only-of-type {\n",
       "        vertical-align: middle;\n",
       "    }\n",
       "\n",
       "    .dataframe tbody tr th {\n",
       "        vertical-align: top;\n",
       "    }\n",
       "\n",
       "    .dataframe thead th {\n",
       "        text-align: right;\n",
       "    }\n",
       "</style>\n",
       "<table border=\"1\" class=\"dataframe\">\n",
       "  <thead>\n",
       "    <tr style=\"text-align: right;\">\n",
       "      <th></th>\n",
       "      <th>id</th>\n",
       "      <th>SalePrice</th>\n",
       "    </tr>\n",
       "  </thead>\n",
       "  <tbody>\n",
       "    <tr>\n",
       "      <th>0</th>\n",
       "      <td>1461</td>\n",
       "      <td>128539.0</td>\n",
       "    </tr>\n",
       "    <tr>\n",
       "      <th>1</th>\n",
       "      <td>1462</td>\n",
       "      <td>166515.0</td>\n",
       "    </tr>\n",
       "    <tr>\n",
       "      <th>2</th>\n",
       "      <td>1463</td>\n",
       "      <td>183189.0</td>\n",
       "    </tr>\n",
       "    <tr>\n",
       "      <th>3</th>\n",
       "      <td>1464</td>\n",
       "      <td>189899.0</td>\n",
       "    </tr>\n",
       "    <tr>\n",
       "      <th>4</th>\n",
       "      <td>1465</td>\n",
       "      <td>194400.0</td>\n",
       "    </tr>\n",
       "    <tr>\n",
       "      <th>...</th>\n",
       "      <td>...</td>\n",
       "      <td>...</td>\n",
       "    </tr>\n",
       "    <tr>\n",
       "      <th>1454</th>\n",
       "      <td>2915</td>\n",
       "      <td>84013.0</td>\n",
       "    </tr>\n",
       "    <tr>\n",
       "      <th>1455</th>\n",
       "      <td>2916</td>\n",
       "      <td>81581.0</td>\n",
       "    </tr>\n",
       "    <tr>\n",
       "      <th>1456</th>\n",
       "      <td>2917</td>\n",
       "      <td>170081.0</td>\n",
       "    </tr>\n",
       "    <tr>\n",
       "      <th>1457</th>\n",
       "      <td>2918</td>\n",
       "      <td>116369.0</td>\n",
       "    </tr>\n",
       "    <tr>\n",
       "      <th>1458</th>\n",
       "      <td>2919</td>\n",
       "      <td>236587.0</td>\n",
       "    </tr>\n",
       "  </tbody>\n",
       "</table>\n",
       "<p>1459 rows × 2 columns</p>\n",
       "</div>"
      ],
      "text/plain": [
       "        id  SalePrice\n",
       "0     1461   128539.0\n",
       "1     1462   166515.0\n",
       "2     1463   183189.0\n",
       "3     1464   189899.0\n",
       "4     1465   194400.0\n",
       "...    ...        ...\n",
       "1454  2915    84013.0\n",
       "1455  2916    81581.0\n",
       "1456  2917   170081.0\n",
       "1457  2918   116369.0\n",
       "1458  2919   236587.0\n",
       "\n",
       "[1459 rows x 2 columns]"
      ]
     },
     "execution_count": 12,
     "metadata": {},
     "output_type": "execute_result"
    }
   ],
   "source": [
    "submission"
   ]
  },
  {
   "cell_type": "code",
   "execution_count": 22,
   "id": "6127eaef-1607-4981-b202-6573770c4aa2",
   "metadata": {},
   "outputs": [
    {
     "data": {
      "text/plain": [
       "(438,)"
      ]
     },
     "execution_count": 22,
     "metadata": {},
     "output_type": "execute_result"
    }
   ],
   "source": [
    "y_test.shape"
   ]
  },
  {
   "cell_type": "code",
   "execution_count": 18,
   "id": "eff43f16-ca96-4c04-8373-ddeb7254b74c",
   "metadata": {},
   "outputs": [
    {
     "data": {
      "text/plain": [
       "array([127281.01, 166943.72, 183379.94, ..., 171009.48, 116248.58,\n",
       "       235646.16], dtype=float32)"
      ]
     },
     "execution_count": 18,
     "metadata": {},
     "output_type": "execute_result"
    }
   ],
   "source": [
    "pred"
   ]
  },
  {
   "cell_type": "code",
   "execution_count": 21,
   "id": "df859840-d087-40a0-8771-5238168be3e8",
   "metadata": {},
   "outputs": [
    {
     "data": {
      "text/plain": [
       "(1459,)"
      ]
     },
     "execution_count": 21,
     "metadata": {},
     "output_type": "execute_result"
    }
   ],
   "source": [
    "pred.shape"
   ]
  },
  {
   "cell_type": "code",
   "execution_count": null,
   "id": "67534175-746f-4f32-8f6c-6c48ed1959a7",
   "metadata": {},
   "outputs": [],
   "source": []
  }
 ],
 "metadata": {
  "kernelspec": {
   "display_name": "Python 3 (ipykernel)",
   "language": "python",
   "name": "python3"
  },
  "language_info": {
   "codemirror_mode": {
    "name": "ipython",
    "version": 3
   },
   "file_extension": ".py",
   "mimetype": "text/x-python",
   "name": "python",
   "nbconvert_exporter": "python",
   "pygments_lexer": "ipython3",
   "version": "3.9.10"
  }
 },
 "nbformat": 4,
 "nbformat_minor": 5
}
